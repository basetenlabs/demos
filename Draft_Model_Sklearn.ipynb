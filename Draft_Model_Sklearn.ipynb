{
  "cells": [
    {
      "cell_type": "markdown",
      "metadata": {
        "id": "Zgji1QK5cNQJ"
      },
      "source": [
        "# Demo: Draft model + sklearn\n",
        "\n",
        "<a href=\"https://colab.research.google.com/github/basetenlabs/demos/blob/main/Draft_Model_Sklearn.ipynb\" target=\"_parent\"><img src=\"https://colab.research.google.com/assets/colab-badge.svg\" alt=\"Open In Colab\"/></a>\n",
        "\n",
        "This notebook presents a workflow with live reload: deploying your changes in seconds to a production-like environment for rapid iteration on your model serving code.\n",
        "\n",
        "All you'll need is a Baseten account and your API key!"
      ]
    },
    {
      "cell_type": "code",
      "execution_count": null,
      "metadata": {
        "id": "wUSHXcEVcQ4L"
      },
      "outputs": [],
      "source": [
        "%pip install --upgrade baseten sklearn truss palmerpenguins"
      ]
    },
    {
      "cell_type": "code",
      "execution_count": 1,
      "metadata": {
        "id": "qvvfZwe3dMjD"
      },
      "outputs": [
        {
          "ename": "ModuleNotFoundError",
          "evalue": "No module named 'sklearn'",
          "output_type": "error",
          "traceback": [
            "\u001b[0;31m---------------------------------------------------------------------------\u001b[0m",
            "\u001b[0;31mModuleNotFoundError\u001b[0m                       Traceback (most recent call last)",
            "\u001b[1;32m/Users/philipkiely/Code/demos/Draft_Model_Sklearn.ipynb Cell 3\u001b[0m in \u001b[0;36m<cell line: 3>\u001b[0;34m()\u001b[0m\n\u001b[1;32m      <a href='vscode-notebook-cell:/Users/philipkiely/Code/demos/Draft_Model_Sklearn.ipynb#W2sZmlsZQ%3D%3D?line=0'>1</a>\u001b[0m \u001b[39m# First, we train our model. Thanks to https://github.com/mcnakhaee/palmerpenguins for the training code!\u001b[39;00m\n\u001b[0;32m----> <a href='vscode-notebook-cell:/Users/philipkiely/Code/demos/Draft_Model_Sklearn.ipynb#W2sZmlsZQ%3D%3D?line=2'>3</a>\u001b[0m \u001b[39mfrom\u001b[39;00m \u001b[39msklearn\u001b[39;00m\u001b[39m.\u001b[39;00m\u001b[39mmodel_selection\u001b[39;00m \u001b[39mimport\u001b[39;00m train_test_split\n\u001b[1;32m      <a href='vscode-notebook-cell:/Users/philipkiely/Code/demos/Draft_Model_Sklearn.ipynb#W2sZmlsZQ%3D%3D?line=3'>4</a>\u001b[0m \u001b[39mfrom\u001b[39;00m \u001b[39msklearn\u001b[39;00m\u001b[39m.\u001b[39;00m\u001b[39mpipeline\u001b[39;00m \u001b[39mimport\u001b[39;00m FeatureUnion, make_pipeline\n\u001b[1;32m      <a href='vscode-notebook-cell:/Users/philipkiely/Code/demos/Draft_Model_Sklearn.ipynb#W2sZmlsZQ%3D%3D?line=4'>5</a>\u001b[0m \u001b[39mfrom\u001b[39;00m \u001b[39msklearn\u001b[39;00m\u001b[39m.\u001b[39;00m\u001b[39mmetrics\u001b[39;00m \u001b[39mimport\u001b[39;00m confusion_matrix\n",
            "\u001b[0;31mModuleNotFoundError\u001b[0m: No module named 'sklearn'"
          ]
        }
      ],
      "source": [
        "# First, we train our model. Thanks to https://github.com/mcnakhaee/palmerpenguins for the training code!\n",
        "\n",
        "from sklearn.model_selection import train_test_split\n",
        "from sklearn.pipeline import FeatureUnion, make_pipeline\n",
        "from sklearn.metrics import confusion_matrix\n",
        "### To deal with missing values\n",
        "from sklearn.experimental import enable_iterative_imputer\n",
        "from sklearn.impute import IterativeImputer\n",
        "from sklearn.tree import DecisionTreeClassifier\n",
        "### Penguins!!\n",
        "from palmerpenguins import load_penguins\n",
        "\n",
        "data, target = load_penguins(return_X_y = True)\n",
        "imp = IterativeImputer(max_iter=10, random_state=0)\n",
        "clf = make_pipeline(imp, DecisionTreeClassifier())\n",
        "clf = clf.fit(data, target)"
      ]
    },
    {
      "cell_type": "code",
      "execution_count": null,
      "metadata": {
        "id": "mv95PaJydYdr"
      },
      "outputs": [],
      "source": [
        "# Then, let's package the model as a Truss\n",
        "import truss\n",
        "\n",
        "truss.create(clf, \"penguin-classifier\")"
      ]
    },
    {
      "cell_type": "code",
      "execution_count": null,
      "metadata": {
        "id": "6z7SS0BsdkXI"
      },
      "outputs": [],
      "source": [
        "# Then, we deploy it as a draft model\n",
        "\n",
        "import baseten\n",
        "\n",
        "api_key = \"YOUR API KEY HERE\"\n",
        "baseten.login(api_key)\n",
        "\n",
        "packaged_model = truss.load(\"penguin-classifier\")\n",
        "baseten.deploy(\n",
        "    packaged_model,\n",
        "    model_name=\"Penguin Predictor\"\n",
        ")"
      ]
    },
    {
      "cell_type": "code",
      "execution_count": null,
      "metadata": {
        "id": "xfMp1J-6CPHF"
      },
      "outputs": [],
      "source": [
        "# Once the model is deployed (which will take a few minutes), we can invoke it\n",
        "\n",
        "deployed_model_id = \"VERSION ID\" # See draft model to find version ID\n",
        "model_input = [[40, 20, 200, 4000]]\n",
        "\n",
        "deployed_model = baseten.deployed_model_version_id(deployed_model_id)\n",
        "deployed_model.predict(model_input)"
      ]
    },
    {
      "attachments": {},
      "cell_type": "markdown",
      "metadata": {
        "id": "bfMKdt3OC5dT"
      },
      "source": [
        "## Updating model input\n",
        "\n",
        "Now that we have deployed and invoked the model, we might want to adjust the model serving code. For example, let's adjust the model input format.\n",
        "\n",
        "Right now, it takes a list of lists as input. Let's say you're developing this model to work with an existing applications, whose requirements state the model input must be formatted as follows:\n",
        "\n",
        "```json\n",
        "{\n",
        "  \"bill_length\": 40,\n",
        "  \"bill_depth\": 20,\n",
        "  \"flipper_length\": 200,\n",
        "  \"body_mass\": 4000\n",
        "}\n",
        "```\n",
        "\n",
        "We'll open up `penguin-classifier/model/model.py` and implement the `preprocess()` function with the following:\n",
        "\n",
        "```python\n",
        "def preprocess(self, model_input: Any) -> Any:\n",
        "    formatted_input = [[\n",
        "      model_input[\"bill_length\"],\n",
        "      model_input[\"bill_depth\"],\n",
        "      model_input[\"flipper_length\"],\n",
        "      model_input[\"body_mass\"]\n",
        "    ]]\n",
        "    return formatted_input\n",
        "```\n",
        "\n",
        "After saving our changes, we'll reload the Truss and update the draft model. We'll call the newly deployed model right away as the model code will be reloaded live."
      ]
    },
    {
      "cell_type": "code",
      "execution_count": null,
      "metadata": {
        "id": "C2vYWnU9EN7A"
      },
      "outputs": [],
      "source": [
        "# This time, deploying the updated model should take just seconds\n",
        "\n",
        "packaged_model = truss.load(\"penguin-classifier\")\n",
        "baseten.deploy(\n",
        "    packaged_model,\n",
        "    model_name=\"Penguin Predictor\"\n",
        ")"
      ]
    },
    {
      "cell_type": "code",
      "execution_count": null,
      "metadata": {
        "id": "5GuskX9xFJ61"
      },
      "outputs": [],
      "source": [
        "# Invoke the model again with new input format that matches the requirements\n",
        "\n",
        "model_input = {\n",
        "  \"bill_length\": 40,\n",
        "  \"bill_depth\": 20,\n",
        "  \"flipper_length\": 200,\n",
        "  \"body_mass\": 4000\n",
        "}\n",
        "\n",
        "deployed_model = baseten.deployed_model_version_id(deployed_model_id)\n",
        "deployed_model.predict(model_input)"
      ]
    },
    {
      "attachments": {},
      "cell_type": "markdown",
      "metadata": {
        "id": "WPTxiEhYFmlc"
      },
      "source": [
        "## Formatting model output\n",
        "\n",
        "Turns out, the frontend team wants to return the model output to the user directly, and asks you to format the prediction as a string. No problem! You can test it out without waiting for your model to rebuild with live reload.\n",
        "\n",
        "We'll open up `penguin-classifier/model/model.py` again and fill in the `postprocess()` function with the following:\n",
        "\n",
        "```python\n",
        "def postprocess(self, model_output: Any) -> Any:\n",
        "    return f\"It appears as though you've discovered a {model_output['predictions'][0]} penguin!\"\n",
        "\n",
        "```\n",
        "\n",
        "After saving our changes, we'll once again reload the Truss and update the draft model."
      ]
    },
    {
      "cell_type": "code",
      "execution_count": null,
      "metadata": {
        "id": "BBLmTka1Gdlu"
      },
      "outputs": [],
      "source": [
        "# Again, deploying the updated model should take just seconds\n",
        "\n",
        "packaged_model = truss.load(\"penguin-classifier\")\n",
        "baseten.deploy(\n",
        "    packaged_model,\n",
        "    model_name=\"Penguin Predictor\"\n",
        ")"
      ]
    },
    {
      "cell_type": "code",
      "execution_count": null,
      "metadata": {
        "id": "YCyHcHoEGkfl"
      },
      "outputs": [],
      "source": [
        "# Invoke the model again with to get a user-friendly string\n",
        "\n",
        "model_input = {\n",
        "  \"bill_length\": 40,\n",
        "  \"bill_depth\": 20,\n",
        "  \"flipper_length\": 200,\n",
        "  \"body_mass\": 4000\n",
        "}\n",
        "\n",
        "deployed_model = baseten.deployed_model_version_id(deployed_model_id)\n",
        "deployed_model.predict(model_input)"
      ]
    },
    {
      "attachments": {},
      "cell_type": "markdown",
      "metadata": {
        "id": "NQo1MkHoG0J2"
      },
      "source": [
        "## Deploying the final model\n",
        "\n",
        "Now that we are happy with our model, we can deploy it and it will no longer be a draft. Simply add `publish=True` from the deployment script. Deploying the model for real doesn't use live reload, so take a break after all of your hard work and come back in a few minutes to invoke the model version with a new version ID."
      ]
    },
    {
      "cell_type": "code",
      "execution_count": null,
      "metadata": {
        "id": "tnLYBkVBG1mx"
      },
      "outputs": [],
      "source": [
        "baseten.deploy(\n",
        "    packaged_model,\n",
        "    model_name=\"Penguin Predictor\",\n",
        "    publish=True\n",
        ")"
      ]
    },
    {
      "cell_type": "code",
      "execution_count": null,
      "metadata": {
        "id": "LKs_UxbFHesD"
      },
      "outputs": [],
      "source": [
        "# Invoke the fully deployed model\n",
        "\n",
        "deployed_model_id = \"NEW VERSION ID\" # See model version to find version ID\n",
        "model_input = {\n",
        "  \"bill_length\": 40,\n",
        "  \"bill_depth\": 20,\n",
        "  \"flipper_length\": 200,\n",
        "  \"body_mass\": 4000\n",
        "}\n",
        "\n",
        "deployed_model = baseten.deployed_model_version_id(deployed_model_id)\n",
        "deployed_model.predict(model_input)"
      ]
    },
    {
      "cell_type": "markdown",
      "metadata": {
        "id": "tP_S6cqxG9F7"
      },
      "source": []
    }
  ],
  "metadata": {
    "colab": {
      "provenance": []
    },
    "kernelspec": {
      "display_name": "Python 3.9.11 64-bit ('3.9.11')",
      "language": "python",
      "name": "python3"
    },
    "language_info": {
      "codemirror_mode": {
        "name": "ipython",
        "version": 3
      },
      "file_extension": ".py",
      "mimetype": "text/x-python",
      "name": "python",
      "nbconvert_exporter": "python",
      "pygments_lexer": "ipython3",
      "version": "3.9.11"
    },
    "vscode": {
      "interpreter": {
        "hash": "1fe11a838172db6ded9e0eaff73fa4c1868b66c7832ee9f6d2dd311612d2d593"
      }
    }
  },
  "nbformat": 4,
  "nbformat_minor": 0
}
