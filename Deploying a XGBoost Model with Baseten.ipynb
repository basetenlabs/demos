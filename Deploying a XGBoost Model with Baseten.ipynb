{
  "nbformat": 4,
  "nbformat_minor": 0,
  "metadata": {
    "colab": {
      "name": "Deploying a XGBoost Model with Baseten.ipynb",
      "provenance": [],
      "collapsed_sections": [],
      "authorship_tag": "ABX9TyO1z0/zL/zAmGTLoq9ZyoUQ",
      "include_colab_link": true
    },
    "kernelspec": {
      "name": "python3",
      "display_name": "Python 3"
    },
    "language_info": {
      "name": "python"
    }
  },
  "cells": [
    {
      "cell_type": "markdown",
      "metadata": {
        "id": "view-in-github",
        "colab_type": "text"
      },
      "source": [
        "<a href=\"https://colab.research.google.com/github/basetenlabs/demos/blob/main/Deploying%20a%20XGBoost%20Model%20with%20Baseten.ipynb\" target=\"_parent\"><img src=\"https://colab.research.google.com/assets/colab-badge.svg\" alt=\"Open In Colab\"/></a>"
      ]
    },
    {
      "cell_type": "markdown",
      "source": [
        "![Baseten](https://assets.website-files.com/624535121db2930bcd043f5d/62453d9bddc3de287134cb76_baseten-logo.svg)"
      ],
      "metadata": {
        "id": "chNS0V1TS-F9"
      }
    },
    {
      "cell_type": "markdown",
      "source": [
        "# Installing dependencies"
      ],
      "metadata": {
        "id": "s2AgvzZvS_we"
      }
    },
    {
      "cell_type": "code",
      "execution_count": null,
      "metadata": {
        "id": "OHXhoQl-JF3W"
      },
      "outputs": [],
      "source": [
        "!pip install xgboost\n",
        "!pip install scikit-learn\n",
        "!pip install baseten\n"
      ]
    },
    {
      "cell_type": "markdown",
      "source": [
        "# Import MNIST data, split into training and test sets"
      ],
      "metadata": {
        "id": "YmGaL9D8TOby"
      }
    },
    {
      "cell_type": "code",
      "source": [
        "from sklearn import datasets\n",
        "from sklearn.model_selection import train_test_split\n",
        "import xgboost as xgb\n",
        "\n",
        "iris = datasets.load_iris()\n",
        "X = iris.data\n",
        "y = iris.target\n",
        "\n",
        "X_train, X_test, y_train, y_test = train_test_split(X, y, test_size=0.2, random_state=42)\n",
        "\n",
        "dtrain = xgb.DMatrix(X_train, label=y_train)\n",
        "dtest = xgb.DMatrix(X_test, label=y_test)\n",
        "\n",
        "param = {\n",
        "    'max_depth': 3,  # the maximum depth of each tree\n",
        "    'eta': 0.3,  # the training step for each iteration\n",
        "    'silent': 1,  # logging mode - quiet\n",
        "    'objective': 'multi:softprob',  # error evaluation for multiclass training\n",
        "    'num_class': 3}  # the number of classes that exist in this datset\n",
        "\n",
        "num_round = 20  # the number of training iterations"
      ],
      "metadata": {
        "id": "RkFA2KnxKi0Z"
      },
      "execution_count": 10,
      "outputs": []
    },
    {
      "cell_type": "markdown",
      "source": [
        "# Train and serialize XGBoost model"
      ],
      "metadata": {
        "id": "Dd4N1X9vTSbA"
      }
    },
    {
      "cell_type": "code",
      "source": [
        "import joblib\n",
        "\n",
        "param = {\n",
        "    'max_depth': 3, # the maximum depth of each tree\n",
        "    'eta': 0.3,     # the training step for each iteration\n",
        "    'silent': 1,    # logging mode - quiet\n",
        "    'objective': 'multi:softprob',  # error evaluation for multiclass training\n",
        "    'num_class': 3 # the number of classes that exist in this dataset\n",
        "}  \n",
        "\n",
        "num_round = 20  # the number of training iterations\n",
        "\n",
        "boosted_model = xgb.train(param, dtrain, num_round)\n",
        "\n",
        "joblib.dump(boosted_model, 'boosted_model.pkl', compress=True)"
      ],
      "metadata": {
        "id": "pPLUwFWELAvw"
      },
      "execution_count": null,
      "outputs": []
    },
    {
      "cell_type": "markdown",
      "source": [
        "# Generate files to deploy to Baseten"
      ],
      "metadata": {
        "id": "vd2LddkdT3Og"
      }
    },
    {
      "cell_type": "code",
      "source": [
        "MODEL_CODE_AS_STR = \"\"\"import joblib\n",
        "\n",
        "class XgBoostModel(object):\n",
        "    def load(self):\n",
        "        self.model = joblib.load(open('model/bst_model.pkl', 'rb'))\n",
        "\n",
        "    def predict(self, inputs):\n",
        "        return self.model.predict(inputs)\n",
        "\"\"\"\n",
        "\n",
        "REQUIREMENTS_FILE = \"\"\"\n",
        "xgboost==0.90\n",
        "joblib==1.1.0\n",
        "scikit-learn==1.0.2\n",
        "\"\"\"\n",
        "\n",
        "with open('xgboost_model.py', 'w') as py_file:\n",
        "    py_file.write(MODEL_CODE_AS_STR)\n",
        "\n",
        "with open('requirements.txt', 'w') as py_file:\n",
        "    py_file.write(REQUIREMENTS_FILE)"
      ],
      "metadata": {
        "id": "pSiFPJGlLlcv"
      },
      "execution_count": 32,
      "outputs": []
    },
    {
      "cell_type": "markdown",
      "source": [
        "# Call Baseten API"
      ],
      "metadata": {
        "id": "XH45Lkt4UAI0"
      }
    },
    {
      "cell_type": "code",
      "source": [
        "import baseten\n",
        "baseten.login(\"*** INSERT API KEY ***\") # https://docs.baseten.co/applications/overview/api-keys\n",
        "baseten.deploy_custom(\n",
        "    model_name='XgBoost Model',\n",
        "    model_class='XgBoostModel',\n",
        "    model_files=['xgboost_model.py', 'boosted_model.pkl'],\n",
        "    requirements_file='requirements.txt'\n",
        ")"
      ],
      "metadata": {
        "id": "o0S4thgJRENW"
      },
      "execution_count": null,
      "outputs": []
    }
  ]
}