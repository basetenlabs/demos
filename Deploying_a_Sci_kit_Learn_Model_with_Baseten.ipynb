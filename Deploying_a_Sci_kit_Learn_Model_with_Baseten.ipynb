{
  "nbformat": 4,
  "nbformat_minor": 0,
  "metadata": {
    "colab": {
      "name": "Deploying a Sci-kit Learn Model with Baseten",
      "provenance": [],
      "collapsed_sections": [],
      "include_colab_link": true
    },
    "kernelspec": {
      "name": "python3",
      "display_name": "Python 3"
    },
    "language_info": {
      "name": "python"
    }
  },
  "cells": [
    {
      "cell_type": "markdown",
      "metadata": {
        "id": "view-in-github",
        "colab_type": "text"
      },
      "source": [
        "<a href=\"https://colab.research.google.com/github/basetenlabs/demos/blob/main/Deploying_a_Sci_kit_Learn_Model_with_Baseten.ipynb\" target=\"_parent\"><img src=\"https://colab.research.google.com/assets/colab-badge.svg\" alt=\"Open In Colab\"/></a>"
      ]
    },
    {
      "cell_type": "markdown",
      "source": [
        "![Baseten](https://assets.website-files.com/624535121db2930bcd043f5d/62453d9bddc3de287134cb76_baseten-logo.svg)"
      ],
      "metadata": {
        "id": "HbQHP6083gBN"
      }
    },
    {
      "cell_type": "markdown",
      "source": [
        "# Install dependencies"
      ],
      "metadata": {
        "id": "FuMY5GIO3lVC"
      }
    },
    {
      "cell_type": "code",
      "execution_count": null,
      "metadata": {
        "id": "fKrctHwaeHfY"
      },
      "outputs": [],
      "source": [
        "!pip install scikit-learn\n",
        "!pip install baseten"
      ]
    },
    {
      "cell_type": "markdown",
      "source": [
        "# Train a Random Forest model on the Iris dataset"
      ],
      "metadata": {
        "id": "060m1rlv35ho"
      }
    },
    {
      "cell_type": "code",
      "source": [
        "import baseten\n",
        "from sklearn.ensemble import RandomForestClassifier\n",
        "from sklearn.datasets import load_iris\n",
        "\n",
        "iris = load_iris()\n",
        "data_x = iris['data']\n",
        "data_y = iris['target']\n",
        "rfc = RandomForestClassifier()\n",
        "rfc.fit(data_x, data_y)"
      ],
      "metadata": {
        "id": "qn1EQ6wae2Hm"
      },
      "execution_count": null,
      "outputs": []
    },
    {
      "cell_type": "markdown",
      "source": [
        "# Call Baseten API"
      ],
      "metadata": {
        "id": "mqPlbN2F3-Ho"
      }
    },
    {
      "cell_type": "code",
      "source": [
        "import baseten\n",
        "baseten.login(\"*** INSERT API KEY ***\") # https://docs.baseten.co/applications/overview/api-keys\n",
        "baseten_model = baseten.deploy(\n",
        "    rfc,\n",
        "    model_name='Iris Random Forest Classifier'\n",
        ")"
      ],
      "metadata": {
        "id": "CuothiDJgCe6"
      },
      "execution_count": null,
      "outputs": []
    }
  ]
}