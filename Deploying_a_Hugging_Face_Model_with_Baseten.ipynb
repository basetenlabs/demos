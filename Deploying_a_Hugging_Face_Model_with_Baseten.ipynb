{
  "nbformat": 4,
  "nbformat_minor": 0,
  "metadata": {
    "colab": {
      "name": "Deploying a Hugging Face Model with Baseten",
      "provenance": [],
      "collapsed_sections": [],
      "include_colab_link": true
    },
    "kernelspec": {
      "name": "python3",
      "display_name": "Python 3"
    },
    "language_info": {
      "name": "python"
    }
  },
  "cells": [
    {
      "cell_type": "markdown",
      "metadata": {
        "id": "view-in-github",
        "colab_type": "text"
      },
      "source": [
        "<a href=\"https://colab.research.google.com/github/basetenlabs/demos/blob/main/Deploying_a_Hugging_Face_Model_with_Baseten.ipynb\" target=\"_parent\"><img src=\"https://colab.research.google.com/assets/colab-badge.svg\" alt=\"Open In Colab\"/></a>"
      ]
    },
    {
      "cell_type": "markdown",
      "source": [
        "![Baseten](https://assets.website-files.com/624535121db2930bcd043f5d/62453d9bddc3de287134cb76_baseten-logo.svg)"
      ],
      "metadata": {
        "id": "RLZa0eUszmH7"
      }
    },
    {
      "cell_type": "markdown",
      "source": [
        "# Install Dependencies"
      ],
      "metadata": {
        "id": "695VhwbYyPNT"
      }
    },
    {
      "cell_type": "code",
      "execution_count": null,
      "metadata": {
        "id": "5W9bIbB4rlBX"
      },
      "outputs": [],
      "source": [
        "!pip install baseten\n",
        "!pip install sentence-transformers"
      ]
    },
    {
      "cell_type": "markdown",
      "source": [
        "# Build and Test Sentence Transformer Model"
      ],
      "metadata": {
        "id": "EJBGiP4EydkS"
      }
    },
    {
      "cell_type": "code",
      "source": [
        "# We're using the all-MiniLM-L6-v2 model from Hugging Face\n",
        "\n",
        "from sentence_transformers import SentenceTransformer\n",
        "sentences = [\"This is an example sentence\", \"Each sentence is converted\"]\n",
        "\n",
        "model = SentenceTransformer('sentence-transformers/all-MiniLM-L6-v2')\n",
        "embeddings = model.encode(sentences)"
      ],
      "metadata": {
        "id": "iKQ5aMZSrxas"
      },
      "execution_count": null,
      "outputs": []
    },
    {
      "cell_type": "markdown",
      "source": [
        "# Write the Baseten-compatible Class with `load` and `predict` Methods "
      ],
      "metadata": {
        "id": "hqt3CIhiyuv_"
      }
    },
    {
      "cell_type": "code",
      "source": [
        "from sentence_transformers import SentenceTransformer\n",
        "\n",
        "class SentenceTransformerModel(object):\n",
        "    def load(self):\n",
        "        self.model = SentenceTransformer(\n",
        "            'sentence-transformers/all-MiniLM-L6-v2'\n",
        "        )\n",
        "    def predict(self, inputs):\n",
        "        embeddings = self.model.encode(inputs)\n",
        "        return embeddings"
      ],
      "metadata": {
        "id": "II42uCi8skbr"
      },
      "execution_count": null,
      "outputs": []
    },
    {
      "cell_type": "code",
      "source": [
        "# Sanity check the new Class-based model\n",
        "\n",
        "stm = SentenceTransformerModel()\n",
        "stm.load()\n",
        "stm.predict(sentences)"
      ],
      "metadata": {
        "id": "dPeSxEo4uGkv"
      },
      "execution_count": null,
      "outputs": []
    },
    {
      "cell_type": "markdown",
      "source": [
        "# Generate Files to Deploy to Baseten"
      ],
      "metadata": {
        "id": "lHCRcIQoy9TP"
      }
    },
    {
      "cell_type": "code",
      "source": [
        "!pip freeze | grep sentence-transformers > requirements.txt"
      ],
      "metadata": {
        "id": "u15o9yS5vjKo"
      },
      "execution_count": null,
      "outputs": []
    },
    {
      "cell_type": "code",
      "source": [
        "MODEL_CODE_AS_STR = \"\"\"from sentence_transformers import SentenceTransformer\n",
        "\n",
        "class SentenceTransformerModel(object):\n",
        "    def load(self):\n",
        "        self.model = SentenceTransformer(\n",
        "            'sentence-transformers/all-MiniLM-L6-v2'\n",
        "        )\n",
        "    def predict(self, inputs):\n",
        "        embeddings = self.model.encode(inputs)\n",
        "        return embeddings\n",
        "\"\"\"\n",
        "\n",
        "with open('stm_model.py', 'w') as py_file:\n",
        "    py_file.write(MODEL_CODE_AS_STR)"
      ],
      "metadata": {
        "id": "rWvHepXcv7YV"
      },
      "execution_count": null,
      "outputs": []
    },
    {
      "cell_type": "markdown",
      "source": [
        "# Call Baseten API"
      ],
      "metadata": {
        "id": "SutCZ20-zCal"
      }
    },
    {
      "cell_type": "code",
      "source": [
        "import baseten\n",
        "baseten.login(\"*** INSERT API KEY ***\")\n",
        "baseten.deploy_custom(\n",
        "    model_name='Sentence Transformer Embedding model',\n",
        "    model_class='SentenceTransformerModel',\n",
        "    model_files=['stm_model.py'],\n",
        "    requirements_file='requirements.txt'\n",
        ")"
      ],
      "metadata": {
        "id": "VI2fGtSmxowt"
      },
      "execution_count": null,
      "outputs": []
    }
  ]
}