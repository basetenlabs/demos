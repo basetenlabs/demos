{
  "nbformat": 4,
  "nbformat_minor": 0,
  "metadata": {
    "colab": {
      "name": "Deploying a Hugging Face Model with Baseten",
      "provenance": [],
      "collapsed_sections": [],
      "include_colab_link": true
    },
    "kernelspec": {
      "name": "python3",
      "display_name": "Python 3"
    },
    "language_info": {
      "name": "python"
    }
  },
  "cells": [
    {
      "cell_type": "markdown",
      "metadata": {
        "id": "view-in-github",
        "colab_type": "text"
      },
      "source": [
        "<a href=\"https://colab.research.google.com/github/basetenlabs/demos/blob/main/Deploying_a_Hugging_Face_Model_with_Baseten.ipynb\" target=\"_parent\"><img src=\"https://colab.research.google.com/assets/colab-badge.svg\" alt=\"Open In Colab\"/></a>"
      ]
    },
    {
      "cell_type": "markdown",
      "source": [
        "![logo.svg](data:image/svg+xml;base64,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)"
      ],
      "metadata": {
        "id": "RLZa0eUszmH7"
      }
    },
    {
      "cell_type": "markdown",
      "source": [
        "# Install Dependencies"
      ],
      "metadata": {
        "id": "695VhwbYyPNT"
      }
    },
    {
      "cell_type": "code",
      "execution_count": null,
      "metadata": {
        "id": "5W9bIbB4rlBX"
      },
      "outputs": [],
      "source": [
        "!pip install baseten\n",
        "!pip install sentence-transformers"
      ]
    },
    {
      "cell_type": "markdown",
      "source": [
        "# Build and Test Sentence Transformer Model"
      ],
      "metadata": {
        "id": "EJBGiP4EydkS"
      }
    },
    {
      "cell_type": "code",
      "source": [
        "# We're using the all-MiniLM-L6-v2 model from Hugging Face\n",
        "\n",
        "from sentence_transformers import SentenceTransformer\n",
        "sentences = [\"This is an example sentence\", \"Each sentence is converted\"]\n",
        "\n",
        "model = SentenceTransformer('sentence-transformers/all-MiniLM-L6-v2')\n",
        "embeddings = model.encode(sentences)"
      ],
      "metadata": {
        "id": "iKQ5aMZSrxas"
      },
      "execution_count": null,
      "outputs": []
    },
    {
      "cell_type": "markdown",
      "source": [
        "# Write the Baseten-compatible Class with `load` and `predict` Methods "
      ],
      "metadata": {
        "id": "hqt3CIhiyuv_"
      }
    },
    {
      "cell_type": "code",
      "source": [
        "from sentence_transformers import SentenceTransformer\n",
        "\n",
        "class SentenceTransformerModel(object):\n",
        "    def load(self):\n",
        "        self.model = SentenceTransformer(\n",
        "            'sentence-transformers/all-MiniLM-L6-v2'\n",
        "        )\n",
        "    def predict(self, inputs):\n",
        "        embeddings = self.model.encode(inputs)\n",
        "        return embeddings"
      ],
      "metadata": {
        "id": "II42uCi8skbr"
      },
      "execution_count": null,
      "outputs": []
    },
    {
      "cell_type": "code",
      "source": [
        "# Sanity check the new Class-based model\n",
        "\n",
        "stm = SentenceTransformerModel()\n",
        "stm.load()\n",
        "stm.predict(sentences)"
      ],
      "metadata": {
        "id": "dPeSxEo4uGkv"
      },
      "execution_count": null,
      "outputs": []
    },
    {
      "cell_type": "markdown",
      "source": [
        "# Generate Files to Deploy to Baseten"
      ],
      "metadata": {
        "id": "lHCRcIQoy9TP"
      }
    },
    {
      "cell_type": "code",
      "source": [
        "!pip freeze | grep sentence-transformers > requirements.txt"
      ],
      "metadata": {
        "id": "u15o9yS5vjKo"
      },
      "execution_count": null,
      "outputs": []
    },
    {
      "cell_type": "code",
      "source": [
        "MODEL_CODE_AS_STR = \"\"\"from sentence_transformers import SentenceTransformer\n",
        "\n",
        "class SentenceTransformerModel(object):\n",
        "    def load(self):\n",
        "        self.model = SentenceTransformer(\n",
        "            'sentence-transformers/all-MiniLM-L6-v2'\n",
        "        )\n",
        "    def predict(self, inputs):\n",
        "        embeddings = self.model.encode(inputs)\n",
        "        return embeddings\n",
        "\"\"\"\n",
        "\n",
        "with open('stm_model.py', 'w') as py_file:\n",
        "    py_file.write(MODEL_CODE_AS_STR)"
      ],
      "metadata": {
        "id": "rWvHepXcv7YV"
      },
      "execution_count": null,
      "outputs": []
    },
    {
      "cell_type": "markdown",
      "source": [
        "# Call Baseten API"
      ],
      "metadata": {
        "id": "SutCZ20-zCal"
      }
    },
    {
      "cell_type": "code",
      "source": [
        "import baseten\n",
        "baseten.login(\"*** INSERT API KEY ***\")\n",
        "baseten.deploy_custom(\n",
        "    model_name='Sentence Transformer Embedding model',\n",
        "    model_class='SentenceTransformerModel',\n",
        "    model_files=['stm_model.py'],\n",
        "    requirements_file='requirements.txt'\n",
        ")"
      ],
      "metadata": {
        "id": "VI2fGtSmxowt"
      },
      "execution_count": null,
      "outputs": []
    }
  ]
}