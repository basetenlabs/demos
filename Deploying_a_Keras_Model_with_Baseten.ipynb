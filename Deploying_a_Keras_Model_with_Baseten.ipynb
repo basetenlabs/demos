{
  "nbformat": 4,
  "nbformat_minor": 0,
  "metadata": {
    "colab": {
      "name": "Deploying a Keras Model with Baseten",
      "provenance": [],
      "collapsed_sections": [],
      "include_colab_link": true
    },
    "kernelspec": {
      "name": "python3",
      "display_name": "Python 3"
    },
    "language_info": {
      "name": "python"
    }
  },
  "cells": [
    {
      "cell_type": "markdown",
      "metadata": {
        "id": "view-in-github",
        "colab_type": "text"
      },
      "source": [
        "<a href=\"https://colab.research.google.com/github/basetenlabs/demos/blob/main/Deploying_a_Keras_Model_with_Baseten.ipynb\" target=\"_parent\"><img src=\"https://colab.research.google.com/assets/colab-badge.svg\" alt=\"Open In Colab\"/></a>"
      ]
    },
    {
      "cell_type": "markdown",
      "source": [
        "![Baseten](https://assets.website-files.com/624535121db2930bcd043f5d/62453d9bddc3de287134cb76_baseten-logo.svg)"
      ],
      "metadata": {
        "id": "HbQHP6083gBN"
      }
    },
    {
      "cell_type": "markdown",
      "source": [
        "# Install dependencies"
      ],
      "metadata": {
        "id": "FuMY5GIO3lVC"
      }
    },
    {
      "cell_type": "code",
      "execution_count": null,
      "metadata": {
        "id": "fKrctHwaeHfY"
      },
      "outputs": [],
      "source": [
        "!pip install baseten"
      ]
    },
    {
      "cell_type": "markdown",
      "source": [
        "# Import MNIST data, split into training and test sets\n"
      ],
      "metadata": {
        "id": "060m1rlv35ho"
      }
    },
    {
      "cell_type": "code",
      "source": [
        "# Source: https://keras.io/examples/vision/mnist_convnet\n",
        "\n",
        "import numpy as np\n",
        "from tensorflow import keras\n",
        "from tensorflow.keras import layers\n",
        "\n",
        "num_classes = 10\n",
        "input_shape = (28, 28, 1)\n",
        "\n",
        "# the data, split between train and test sets\n",
        "(x_train, y_train), (x_test, y_test) = keras.datasets.mnist.load_data()\n",
        "\n",
        "# Scale images to the [0, 1] range\n",
        "x_train = x_train.astype(\"float32\") / 255\n",
        "x_test = x_test.astype(\"float32\") / 255\n",
        "# Make sure images have shape (28, 28, 1)\n",
        "x_train = np.expand_dims(x_train, -1)\n",
        "x_test = np.expand_dims(x_test, -1)\n",
        "print(\"x_train shape:\", x_train.shape)\n",
        "print(x_train.shape[0], \"train samples\")\n",
        "print(x_test.shape[0], \"test samples\")\n",
        "\n",
        "\n",
        "# convert class vectors to binary class matrices\n",
        "y_train = keras.utils.to_categorical(y_train, num_classes)\n",
        "y_test = keras.utils.to_categorical(y_test, num_classes)"
      ],
      "metadata": {
        "id": "qn1EQ6wae2Hm"
      },
      "execution_count": null,
      "outputs": []
    },
    {
      "cell_type": "markdown",
      "source": [
        "# Build the model"
      ],
      "metadata": {
        "id": "k9QsdN4DEo78"
      }
    },
    {
      "cell_type": "code",
      "source": [
        "# Source: https://keras.io/examples/vision/mnist_convnet\n",
        "\n",
        "model = keras.Sequential(\n",
        "    [\n",
        "        keras.Input(shape=input_shape),\n",
        "        layers.Conv2D(32, kernel_size=(3, 3), activation=\"relu\"),\n",
        "        layers.MaxPooling2D(pool_size=(2, 2)),\n",
        "        layers.Conv2D(64, kernel_size=(3, 3), activation=\"relu\"),\n",
        "        layers.MaxPooling2D(pool_size=(2, 2)),\n",
        "        layers.Flatten(),\n",
        "        layers.Dropout(0.5),\n",
        "        layers.Dense(num_classes, activation=\"softmax\"),\n",
        "    ]\n",
        ")\n",
        "\n",
        "model.summary()"
      ],
      "metadata": {
        "id": "3uI1AOhkEllr"
      },
      "execution_count": null,
      "outputs": []
    },
    {
      "cell_type": "markdown",
      "source": [
        "# Train and evaluate the model"
      ],
      "metadata": {
        "id": "GKGDexKDE1eQ"
      }
    },
    {
      "cell_type": "code",
      "source": [
        "# Source: https://keras.io/examples/vision/mnist_convnet\n",
        "\n",
        "batch_size = 128\n",
        "epochs = 3\n",
        "\n",
        "model.compile(loss=\"categorical_crossentropy\", optimizer=\"adam\", metrics=[\"accuracy\"])\n",
        "\n",
        "model.fit(x_train, y_train, batch_size=batch_size, epochs=epochs, validation_split=0.1)\n",
        "\n",
        "score = model.evaluate(x_test, y_test, verbose=0)\n",
        "print(\"Test loss:\", score[0])\n",
        "print(\"Test accuracy:\", score[1])"
      ],
      "metadata": {
        "id": "AGGXiP6dE1yC"
      },
      "execution_count": null,
      "outputs": []
    },
    {
      "cell_type": "markdown",
      "source": [
        "# Call Baseten API"
      ],
      "metadata": {
        "id": "mqPlbN2F3-Ho"
      }
    },
    {
      "cell_type": "code",
      "source": [
        "import baseten\n",
        "baseten.login(\"*** INSERT API KEY ***\") # https://docs.baseten.co/applications/overview/api-keys\n",
        "baseten_model = baseten.deploy(\n",
        "    model,\n",
        "    model_name='MNIST Keras Convnet',\n",
        ")"
      ],
      "metadata": {
        "id": "CuothiDJgCe6"
      },
      "execution_count": 8,
      "outputs": []
    }
  ]
}