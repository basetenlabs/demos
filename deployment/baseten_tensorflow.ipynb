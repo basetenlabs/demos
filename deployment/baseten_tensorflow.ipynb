{
  "cells": [
    {
      "cell_type": "markdown",
      "metadata": {
        "id": "ndlSFJb7wCAU"
      },
      "source": [
        "# Baseten <> Tensorflow example deployment\n",
        "\n",
        "<a href=\"https://colab.research.google.com/github/basetenlabs/demos/blob/main/deployment/baseten_tensorflow.ipynb\" target=\"_parent\"><img src=\"https://colab.research.google.com/assets/colab-badge.svg\" alt=\"Open In Colab\"/></a>"
      ]
    },
    {
      "cell_type": "code",
      "execution_count": null,
      "metadata": {
        "id": "UYqwaTZjv88A"
      },
      "outputs": [],
      "source": [
        "%pip install --upgrade tensorflow baseten"
      ]
    },
    {
      "cell_type": "code",
      "execution_count": null,
      "metadata": {
        "id": "-3uOE4-dwG2J"
      },
      "outputs": [],
      "source": [
        "# Model training\n",
        "\n",
        "import tensorflow as tf\n",
        "\n",
        "#Creates tensorflow model\n",
        "def train_model():\n",
        "    return tf.keras.applications.ResNet50V2(\n",
        "        include_top=True,\n",
        "        weights=\"imagenet\",\n",
        "        classifier_activation=\"softmax\",\n",
        "    )"
      ]
    },
    {
      "cell_type": "code",
      "execution_count": null,
      "metadata": {
        "id": "xCbNKKW7wMNp"
      },
      "outputs": [],
      "source": [
        "# Model creation\n",
        "\n",
        "my_model = train_model()"
      ]
    },
    {
      "cell_type": "code",
      "execution_count": null,
      "metadata": {},
      "outputs": [],
      "source": [
        "# Model packaging\n",
        "\n",
        "import truss\n",
        "\n",
        "tr = truss.create(my_model, \"my-truss\")\n",
        "tr.add_python_requirement(\"scipy\") # Needed for processing functions in next step"
      ]
    },
    {
      "attachments": {},
      "cell_type": "markdown",
      "metadata": {},
      "source": [
        "# Pre- and post-processing functions\n",
        "\n",
        "The Tensorflow model has inputs and outputs that are not JSON-serializable. To make it so that we can use our deployed model over an API, we'll package pre- and post-processing functions with the model.\n",
        "\n",
        "In your newly created Truss, open `my-truss/model/model.py` and add pre- and post-processing functions as follows.\n",
        "\n",
        "First, add the following imports at the top of the file:\n",
        "\n",
        "\n",
        "```python\n",
        "import requests\n",
        "import tempfile\n",
        "import tensorflow as tf\n",
        "from scipy.special import softmax\n",
        "```\n",
        "\n",
        "Then, update the pre-processing function to:\n",
        "\n",
        "```python\n",
        "def preprocess(self, model_input: Any) -> Any:\n",
        "    \"\"\"Preprocess step for ResNet\"\"\"\n",
        "    request = requests.get(model_input)\n",
        "    with tempfile.NamedTemporaryFile() as f:\n",
        "        f.write(request.content)\n",
        "        f.seek(0)\n",
        "        input_image = tf.image.decode_png(tf.io.read_file(f.name))\n",
        "    preprocessed_image = tf.keras.applications.resnet_v2.preprocess_input(\n",
        "        tf.image.resize([input_image], (224, 224))\n",
        "    )\n",
        "    return np.array(preprocessed_image)\n",
        "```\n",
        "\n",
        "Finally, update the post-processing function to:\n",
        "\n",
        "```python\n",
        "def postprocess(self, model_output: Any, k=5) -> Any:\n",
        "    \"\"\"Post process step for ResNet\"\"\"\n",
        "    class_predictions = model_output[\"predictions\"][0]\n",
        "    LABELS = requests.get(\n",
        "        \"https://storage.googleapis.com/download.tensorflow.org/data/ImageNetLabels.txt\"\n",
        "    ).text.split(\"\\n\")\n",
        "    class_probabilities = softmax(class_predictions)\n",
        "    top_probability_indices = class_probabilities.argsort()[::-1][:k].tolist()\n",
        "    return {\n",
        "        LABELS[index]: 100 * class_probabilities[index].round(3)\n",
        "        for index in top_probability_indices\n",
        "    }\n",
        "```\n",
        "\n",
        "Save the file, and re-load the truss handle (`tr`) in the next cell to access the updated Truss."
      ]
    },
    {
      "cell_type": "code",
      "execution_count": null,
      "metadata": {
        "id": "h4ycnyYles07"
      },
      "outputs": [],
      "source": [
        "# Model deployment\n",
        "\n",
        "import baseten\n",
        "\n",
        "tr = truss.load(\"my-truss\")\n",
        "\n",
        "api_key = \"PASTE API KEY HERE\"\n",
        "baseten.login(api_key)\n",
        "\n",
        "baseten.deploy(\n",
        "    tr,\n",
        "    model_name=\"My ResNet TensorFlow Model\"\n",
        ")"
      ]
    },
    {
      "cell_type": "code",
      "execution_count": null,
      "metadata": {
        "id": "fd2sqoeawX0C"
      },
      "outputs": [],
      "source": [
        "# After the deployment is finished, call your new model!\n",
        "\n",
        "deployed_model_id = \"PASTE VERSION ID HERE\" # See deployed model page to find version ID\n",
        "model_input = \"https://github.com/pytorch/hub/raw/master/images/dog.jpg\"\n",
        "\n",
        "deployed_model = baseten.deployed_model_version_id(deployed_model_id)\n",
        "deployed_model.predict(model_input)"
      ]
    },
    {
      "cell_type": "code",
      "execution_count": null,
      "metadata": {},
      "outputs": [],
      "source": [
        "# Or call your model as an API\n",
        "\n",
        "import requests\n",
        "import json\n",
        "\n",
        "endpoint = f\"https://app.baseten.co/model_versions/{deployed_model_id}/predict\"\n",
        "auth = {\"Authorization\": f\"Api-Key {api_key}\"}\n",
        "data = json.dumps(model_input)\n",
        "\n",
        "resp = requests.post(\n",
        "    endpoint,\n",
        "    headers=auth,\n",
        "    data=data\n",
        ")\n",
        "\n",
        "resp.json()"
      ]
    }
  ],
  "metadata": {
    "colab": {
      "collapsed_sections": [],
      "name": "baseten_tensorflow.ipynb",
      "provenance": []
    },
    "kernelspec": {
      "display_name": "Python 3.9.11 64-bit ('3.9.11')",
      "language": "python",
      "name": "python3"
    },
    "language_info": {
      "name": "python",
      "version": "3.9.11"
    },
    "vscode": {
      "interpreter": {
        "hash": "1fe11a838172db6ded9e0eaff73fa4c1868b66c7832ee9f6d2dd311612d2d593"
      }
    }
  },
  "nbformat": 4,
  "nbformat_minor": 0
}
