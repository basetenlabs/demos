{
  "nbformat": 4,
  "nbformat_minor": 0,
  "metadata": {
    "colab": {
      "name": "baseten_tensorflow.ipynb",
      "provenance": [],
      "collapsed_sections": []
    },
    "kernelspec": {
      "name": "python3",
      "display_name": "Python 3"
    },
    "language_info": {
      "name": "python"
    }
  },
  "cells": [
    {
      "cell_type": "markdown",
      "source": [
        "# Baseten <> Tensorflow example deployment\n",
        "\n",
        "<a href=\"https://colab.research.google.com/github/basetenlabs/demos/blob/main/deployment/baseten_tensorflow.ipynb\" target=\"_parent\"><img src=\"https://colab.research.google.com/assets/colab-badge.svg\" alt=\"Open In Colab\"/></a>"
      ],
      "metadata": {
        "id": "ndlSFJb7wCAU"
      }
    },
    {
      "cell_type": "code",
      "execution_count": null,
      "metadata": {
        "id": "UYqwaTZjv88A"
      },
      "outputs": [],
      "source": [
        "%pip install tensorflow baseten"
      ]
    },
    {
      "cell_type": "code",
      "source": [
        "# Model training\n",
        "\n",
        "import tensorflow as tf\n",
        "\n",
        "#Creates tensorflow model\n",
        "def train_model():\n",
        "    return tf.keras.applications.ResNet50V2(\n",
        "        include_top=True,\n",
        "        weights=\"imagenet\",\n",
        "        classifier_activation=\"softmax\",\n",
        "    )"
      ],
      "metadata": {
        "id": "-3uOE4-dwG2J"
      },
      "execution_count": null,
      "outputs": []
    },
    {
      "cell_type": "code",
      "source": [
        "# Model creation\n",
        "\n",
        "my_model = train_model()"
      ],
      "metadata": {
        "id": "xCbNKKW7wMNp"
      },
      "execution_count": null,
      "outputs": []
    },
    {
      "cell_type": "code",
      "source": [
        "# Model deployment\n",
        "\n",
        "import baseten\n",
        "\n",
        "api_key = \"PASTE API KEY HERE\"\n",
        "baseten.login(api_key)\n",
        "\n",
        "baseten.deploy(\n",
        "    my_model,\n",
        "    model_name=\"My ResNet TensorFlow Model\"\n",
        ")"
      ],
      "metadata": {
        "id": "h4ycnyYles07"
      },
      "execution_count": null,
      "outputs": []
    },
    {
      "cell_type": "code",
      "source": [
        "#Preprocess and Postprocess Functions\n",
        "\n",
        "import requests\n",
        "import tempfile\n",
        "import numpy as np\n",
        "\n",
        "from scipy.special import softmax\n",
        "\n",
        "def preprocess(url):\n",
        "    \"\"\"Preprocess step for ResNet\"\"\"\n",
        "    request = requests.get(url)\n",
        "    with tempfile.NamedTemporaryFile() as f:\n",
        "        f.write(request.content)\n",
        "        f.seek(0)\n",
        "        input_image = tf.image.decode_png(tf.io.read_file(f.name))\n",
        "    preprocessed_image = tf.keras.applications.resnet_v2.preprocess_input(\n",
        "        tf.image.resize([input_image], (224, 224))\n",
        "    )\n",
        "    return np.array(preprocessed_image)\n",
        "\n",
        "def postprocess(predictions, k=5):\n",
        "    \"\"\"Post process step for ResNet\"\"\"\n",
        "    class_predictions = predictions[0]\n",
        "    LABELS = requests.get(\n",
        "        'https://storage.googleapis.com/download.tensorflow.org/data/ImageNetLabels.txt'\n",
        "    ).text.split('\\n')\n",
        "    class_probabilities = softmax(class_predictions)\n",
        "    top_probability_indices = class_probabilities.argsort()[::-1][:k].tolist()\n",
        "    return {LABELS[index]: 100 * class_probabilities[index].round(3) for index in top_probability_indices}"
      ],
      "metadata": {
        "id": "LII3OIyVckqI"
      },
      "execution_count": null,
      "outputs": []
    },
    {
      "cell_type": "code",
      "source": [
        "# After the deployment is finished, call your new model!\n",
        "\n",
        "deployed_model_id = \"PASTE VERSION ID HERE\" # See deployed model page to find version ID\n",
        "model_input = preprocess(\"https://github.com/pytorch/hub/raw/master/images/dog.jpg\")\n",
        "\n",
        "deployed_model = baseten.deployed_model_version_id(deployed_model_id)\n",
        "postprocess(deployed_model.predict(model_input))"
      ],
      "metadata": {
        "id": "fd2sqoeawX0C"
      },
      "execution_count": null,
      "outputs": []
    }
  ]
}