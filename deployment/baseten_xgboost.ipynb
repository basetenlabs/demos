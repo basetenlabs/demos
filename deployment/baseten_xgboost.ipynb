{
  "nbformat": 4,
  "nbformat_minor": 0,
  "metadata": {
    "colab": {
      "name": "baseten_xgboost.ipynb",
      "provenance": [],
      "collapsed_sections": []
    },
    "kernelspec": {
      "name": "python3",
      "display_name": "Python 3"
    },
    "language_info": {
      "name": "python"
    }
  },
  "cells": [
    {
      "cell_type": "markdown",
      "source": [
        "# Baseten <> XGBoost example deployment\n",
        "\n",
        "<a href=\"https://colab.research.google.com/github/basetenlabs/demos/blob/main/deployment/baseten_xgboost.ipynb\" target=\"_parent\"><img src=\"https://colab.research.google.com/assets/colab-badge.svg\" alt=\"Open In Colab\"/></a>"
      ],
      "metadata": {
        "id": "ndlSFJb7wCAU"
      }
    },
    {
      "cell_type": "code",
      "execution_count": null,
      "metadata": {
        "id": "UYqwaTZjv88A"
      },
      "outputs": [],
      "source": [
        "%pip install --upgrade xgboost baseten"
      ]
    },
    {
      "cell_type": "code",
      "source": [
        "# Model training\n",
        "\n",
        "import xgboost as xgb\n",
        "from sklearn.datasets import make_classification\n",
        "from sklearn.model_selection import train_test_split\n",
        "\n",
        "def create_data():\n",
        "    X, y = make_classification(n_samples=100,\n",
        "                           n_informative=2,\n",
        "                           n_classes=2,\n",
        "                           n_features=6)\n",
        "    X_train, X_test, y_train, y_test = train_test_split(X, y, test_size=0.25)\n",
        "    train = xgb.DMatrix(X_train, y_train)\n",
        "    test = xgb.DMatrix(X_test, y_test)\n",
        "    return train, test\n",
        "\n",
        "train, test = create_data()\n",
        "params = {\n",
        "    \"learning_rate\": 0.01,\n",
        "    \"max_depth\": 3\n",
        "}\n",
        "# training, we set the early stopping rounds parameter\n",
        "def train_model():\n",
        "    return xgb.train(\n",
        "        params,\n",
        "        train,\n",
        "        evals=[(train, \"train\"), (test, \"validation\")],\n",
        "        num_boost_round=100,\n",
        "        early_stopping_rounds=20\n",
        "    )\n",
        "    "
      ],
      "metadata": {
        "id": "-3uOE4-dwG2J"
      },
      "execution_count": null,
      "outputs": []
    },
    {
      "cell_type": "code",
      "source": [
        "# Model creation\n",
        "\n",
        "my_model = train_model()"
      ],
      "metadata": {
        "id": "xCbNKKW7wMNp"
      },
      "execution_count": null,
      "outputs": []
    },
    {
      "cell_type": "code",
      "source": [
        "# Model deployment\n",
        "\n",
        "import baseten\n",
        "\n",
        "api_key = \"PASTE API KEY HERE\"\n",
        "baseten.login(api_key)\n",
        "\n",
        "baseten.deploy(\n",
        "    my_model,\n",
        "    model_name=\"My XGBoost Model\"\n",
        ")"
      ],
      "metadata": {
        "id": "h4ycnyYles07"
      },
      "execution_count": null,
      "outputs": []
    },
    {
      "cell_type": "code",
      "source": [
        "# After the deployment is finished, call your new model!\n",
        "\n",
        "deployed_model_id = \"PASTE VERSION ID HERE\" # See deployed model page to find version ID\n",
        "model_input = [[0, 0, 0, 0, 0, 0]]\n",
        "\n",
        "deployed_model = baseten.deployed_model_version_id(deployed_model_id)\n",
        "deployed_model.predict(model_input)"
      ],
      "metadata": {
        "id": "fd2sqoeawX0C"
      },
      "execution_count": null,
      "outputs": []
    },
    {
      "cell_type": "code",
      "source": [
        "# Or call your model as an API\n",
        "\n",
        "import requests\n",
        "import json\n",
        "\n",
        "endpoint = f\"https://app.baseten.co/model_versions/{deployed_model_id}/predict\"\n",
        "auth = {\"Authorization\": f\"Api-Key {api_key}\"}\n",
        "data = json.dumps({\"inputs\": model_input})\n",
        "\n",
        "resp = requests.post(\n",
        "    endpoint,\n",
        "    headers=auth,\n",
        "    data=data\n",
        ")\n",
        "\n",
        "resp.json()"
      ],
      "metadata": {
        "id": "YHPaEzskjmOm"
      },
      "execution_count": null,
      "outputs": []
    }
  ]
}