{
  "nbformat": 4,
  "nbformat_minor": 0,
  "metadata": {
    "colab": {
      "name": "baseten_huggingface.ipynb",
      "provenance": [],
      "collapsed_sections": []
    },
    "kernelspec": {
      "name": "python3",
      "display_name": "Python 3"
    },
    "language_info": {
      "name": "python"
    }
  },
  "cells": [
    {
      "cell_type": "markdown",
      "source": [
        "# Baseten <> Hugging Face example deployment\n",
        "\n",
        "<a href=\"https://colab.research.google.com/github/basetenlabs/demos/blob/main/deployment/baseten_huggingface.ipynb\" target=\"_parent\"><img src=\"https://colab.research.google.com/assets/colab-badge.svg\" alt=\"Open In Colab\"/></a>"
      ],
      "metadata": {
        "id": "ndlSFJb7wCAU"
      }
    },
    {
      "cell_type": "code",
      "execution_count": null,
      "metadata": {
        "id": "UYqwaTZjv88A"
      },
      "outputs": [],
      "source": [
        "%pip install transformers baseten"
      ]
    },
    {
      "cell_type": "code",
      "source": [
        "# Model training\n",
        "\n",
        "from transformers import pipeline\n",
        "\n",
        "def train_model():\n",
        "    # Bring in model from huggingface\n",
        "    return pipeline('fill-mask', model='bert-base-uncased')"
      ],
      "metadata": {
        "id": "-3uOE4-dwG2J"
      },
      "execution_count": null,
      "outputs": []
    },
    {
      "cell_type": "code",
      "source": [
        "# Model creation\n",
        "\n",
        "my_model = train_model()"
      ],
      "metadata": {
        "id": "xCbNKKW7wMNp"
      },
      "execution_count": null,
      "outputs": []
    },
    {
      "cell_type": "code",
      "source": [
        "# Model deployment\n",
        "\n",
        "import baseten\n",
        "\n",
        "api_key = \"PASTE API KEY HERE\"\n",
        "baseten.login(api_key)\n",
        "\n",
        "baseten.deploy(\n",
        "    my_model,\n",
        "    model_name=\"bert-base-uncased\"\n",
        ")"
      ],
      "metadata": {
        "id": "h4ycnyYles07"
      },
      "execution_count": null,
      "outputs": []
    },
    {
      "cell_type": "code",
      "source": [
        "# After the deployment is finished, call your new model!\n",
        "\n",
        "deployed_model_id = \"PASTE VERSION ID HERE\" # See deployed model page to find version ID\n",
        "model_input = [\"Donatello is a teenage mutant [MASK] turtle\"]\n",
        "\n",
        "deployed_model = baseten.deployed_model_version_id(deployed_model_id)\n",
        "deployed_model.predict(model_input)"
      ],
      "metadata": {
        "id": "fd2sqoeawX0C"
      },
      "execution_count": null,
      "outputs": []
    },
    {
      "cell_type": "code",
      "source": [
        "# Or call your model as an API\n",
        "\n",
        "import requests\n",
        "import json\n",
        "\n",
        "endpoint = f\"https://app.baseten.co/model_versions/{deployed_model_id}/predict\"\n",
        "auth = {\"Authorization\": f\"Api-Key {api_key}\"}\n",
        "data = json.dumps({\"inputs\": model_input})\n",
        "\n",
        "resp = requests.post(\n",
        "    endpoint,\n",
        "    headers=auth,\n",
        "    data=data\n",
        ")\n",
        "\n",
        "resp.json()"
      ],
      "metadata": {
        "id": "YHPaEzskjmOm"
      },
      "execution_count": null,
      "outputs": []
    }
  ]
}