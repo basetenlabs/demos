{
  "cells": [
    {
      "cell_type": "markdown",
      "metadata": {
        "id": "ndlSFJb7wCAU"
      },
      "source": [
        "# Baseten <> Hugging Face example deployment\n",
        "\n",
        "<a href=\"https://colab.research.google.com/github/basetenlabs/demos/blob/main/deployment/baseten_huggingface.ipynb\" target=\"_parent\"><img src=\"https://colab.research.google.com/assets/colab-badge.svg\" alt=\"Open In Colab\"/></a>"
      ]
    },
    {
      "cell_type": "code",
      "execution_count": null,
      "metadata": {
        "id": "UYqwaTZjv88A"
      },
      "outputs": [],
      "source": [
        "%pip install --upgrade transformers baseten"
      ]
    },
    {
      "cell_type": "code",
      "execution_count": null,
      "metadata": {
        "id": "-3uOE4-dwG2J"
      },
      "outputs": [],
      "source": [
        "# Model training\n",
        "\n",
        "from transformers import pipeline\n",
        "\n",
        "def train_model():\n",
        "    # Bring in model from huggingface\n",
        "    return pipeline('fill-mask', model='bert-base-uncased')"
      ]
    },
    {
      "cell_type": "code",
      "execution_count": null,
      "metadata": {
        "id": "xCbNKKW7wMNp"
      },
      "outputs": [],
      "source": [
        "# Model creation\n",
        "\n",
        "my_model = train_model()"
      ]
    },
    {
      "cell_type": "code",
      "execution_count": null,
      "metadata": {
        "id": "h4ycnyYles07"
      },
      "outputs": [],
      "source": [
        "# Model deployment\n",
        "\n",
        "import baseten\n",
        "\n",
        "api_key = \"PASTE API KEY HERE\"\n",
        "baseten.login(api_key)\n",
        "\n",
        "baseten.deploy(\n",
        "    my_model,\n",
        "    model_name=\"bert-base-uncased\"\n",
        ")"
      ]
    },
    {
      "cell_type": "code",
      "execution_count": null,
      "metadata": {
        "id": "fd2sqoeawX0C"
      },
      "outputs": [],
      "source": [
        "# After the deployment is finished, call your new model!\n",
        "\n",
        "deployed_model_id = \"PASTE VERSION ID HERE\" # See deployed model page to find version ID\n",
        "model_input = {\"inputs\": [\"Donatello is a teenage mutant [MASK] turtle\"]}\n",
        "\n",
        "deployed_model = baseten.deployed_model_version_id(deployed_model_id)\n",
        "deployed_model.predict(model_input)"
      ]
    },
    {
      "cell_type": "code",
      "execution_count": null,
      "metadata": {
        "id": "YHPaEzskjmOm"
      },
      "outputs": [],
      "source": [
        "# Or call your model as an API\n",
        "\n",
        "import requests\n",
        "import json\n",
        "\n",
        "endpoint = f\"https://app.baseten.co/model_versions/{deployed_model_id}/predict\"\n",
        "auth = {\"Authorization\": f\"Api-Key {api_key}\"}\n",
        "data = json.dumps(model_input)\n",
        "\n",
        "resp = requests.post(\n",
        "    endpoint,\n",
        "    headers=auth,\n",
        "    data=data\n",
        ")\n",
        "\n",
        "resp.json()"
      ]
    }
  ],
  "metadata": {
    "colab": {
      "collapsed_sections": [],
      "name": "baseten_huggingface.ipynb",
      "provenance": []
    },
    "kernelspec": {
      "display_name": "Python 3.9.11 64-bit ('3.9.11')",
      "language": "python",
      "name": "python3"
    },
    "language_info": {
      "name": "python",
      "version": "3.9.11"
    },
    "vscode": {
      "interpreter": {
        "hash": "1fe11a838172db6ded9e0eaff73fa4c1868b66c7832ee9f6d2dd311612d2d593"
      }
    }
  },
  "nbformat": 4,
  "nbformat_minor": 0
}
