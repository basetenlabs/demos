{
  "nbformat": 4,
  "nbformat_minor": 0,
  "metadata": {
    "colab": {
      "name": "baseten_pytorch.ipynb",
      "provenance": [],
      "collapsed_sections": []
    },
    "kernelspec": {
      "name": "python3",
      "display_name": "Python 3"
    },
    "language_info": {
      "name": "python"
    }
  },
  "cells": [
    {
      "cell_type": "markdown",
      "source": [
        "# Baseten <> PyTorch example deployment\n",
        "\n",
        "<a href=\"https://colab.research.google.com/github/basetenlabs/demos/blob/main/deployment/baseten_pytorch.ipynb\" target=\"_parent\"><img src=\"https://colab.research.google.com/assets/colab-badge.svg\" alt=\"Open In Colab\"/></a>"
      ],
      "metadata": {
        "id": "ndlSFJb7wCAU"
      }
    },
    {
      "cell_type": "code",
      "execution_count": null,
      "metadata": {
        "id": "UYqwaTZjv88A"
      },
      "outputs": [],
      "source": [
        "%pip install torch torchvision baseten"
      ]
    },
    {
      "cell_type": "code",
      "source": [
        "# Model training\n",
        "\n",
        "import torch\n",
        "import torch.optim as optim\n",
        "from torch.optim.lr_scheduler import StepLR\n",
        "from torchvision import datasets, transforms\n",
        "import torch.nn.functional as F\n",
        "\n",
        "model_py_string = \"\"\"\n",
        "import torch\n",
        "import torch.nn as nn\n",
        "import torch.nn.functional as F\n",
        "\n",
        "class MNISTNet(nn.Module):\n",
        "    def __init__(self):\n",
        "        super(MNISTNet, self).__init__()\n",
        "        self.conv1 = nn.Conv2d(1, 32, 3, 1)\n",
        "        self.conv2 = nn.Conv2d(32, 64, 3, 1)\n",
        "        self.dropout1 = nn.Dropout(0.25)\n",
        "        self.dropout2 = nn.Dropout(0.5)\n",
        "        self.fc1 = nn.Linear(9216, 128)\n",
        "        self.fc2 = nn.Linear(128, 10)\n",
        "\n",
        "    def forward(self, x):\n",
        "        x = self.conv1(x)\n",
        "        x = F.relu(x)\n",
        "        x = self.conv2(x)\n",
        "        x = F.relu(x)\n",
        "        x = F.max_pool2d(x, 2)\n",
        "        x = self.dropout1(x)\n",
        "        x = torch.flatten(x, 1)\n",
        "        x = self.fc1(x)\n",
        "        x = F.relu(x)\n",
        "        x = self.dropout2(x)\n",
        "        x = self.fc2(x)\n",
        "        output = F.log_softmax(x, dim=1)\n",
        "        return output\n",
        "\"\"\"\n",
        "\n",
        "with open('model.py', 'w') as model_py_file:\n",
        "    model_py_file.write(model_py_string)\n",
        "\n",
        "#pytorch model class must be in a python file\n",
        "from model import MNISTNet\n",
        "\n",
        "def train(model, device, train_loader, optimizer, epoch, log_interval=10):\n",
        "    model.train()\n",
        "    for batch_idx, (data, target) in enumerate(train_loader):\n",
        "        data, target = data.to(device), target.to(device)\n",
        "        optimizer.zero_grad()\n",
        "        output = model(data)\n",
        "        loss = F.nll_loss(output, target)\n",
        "        loss.backward()\n",
        "        optimizer.step()\n",
        "        if batch_idx % log_interval == 0:\n",
        "            print(\n",
        "                \"Train Epoch: {} [{}/{} ({:.0f}%)]\\tLoss: {:.6f}\".format(\n",
        "                    epoch,\n",
        "                    batch_idx * len(data),\n",
        "                    len(train_loader.dataset),\n",
        "                    100.0 * batch_idx / len(train_loader),\n",
        "                    loss.item(),\n",
        "                )\n",
        "            )\n",
        "\n",
        "\n",
        "def test(model, device, test_loader):\n",
        "    model.eval()\n",
        "    test_loss = 0\n",
        "    correct = 0\n",
        "    with torch.no_grad():\n",
        "        for data, target in test_loader:\n",
        "            data, target = data.to(device), target.to(device)\n",
        "            output = model(data)\n",
        "            test_loss += F.nll_loss(\n",
        "                output, target, reduction=\"sum\"\n",
        "            ).item()  # sum up batch loss\n",
        "            pred = output.argmax(\n",
        "                dim=1, keepdim=True\n",
        "            )  # get the index of the max log-probability\n",
        "            correct += pred.eq(target.view_as(pred)).sum().item()\n",
        "\n",
        "    test_loss /= len(test_loader.dataset)\n",
        "\n",
        "    print(\n",
        "        \"\\nTest set: Average loss: {:.4f}, Accuracy: {}/{} ({:.0f}%)\\n\".format(\n",
        "            test_loss,\n",
        "            correct,\n",
        "            len(test_loader.dataset),\n",
        "            100.0 * correct / len(test_loader.dataset),\n",
        "        )\n",
        "    )\n",
        "\n",
        "\n",
        "def train_model():\n",
        "    device = \"cpu\"\n",
        "    epochs = 1\n",
        "    train_kwargs = {\"batch_size\": 64}\n",
        "    test_kwargs = {\"batch_size\": 1000}\n",
        "    transform = transforms.Compose(\n",
        "        [transforms.ToTensor(), transforms.Normalize((0.1307,), (0.3081,))]\n",
        "    )\n",
        "    dataset1 = datasets.MNIST(\"../data\", train=True, download=True, transform=transform)\n",
        "    dataset2 = datasets.MNIST(\"../data\", train=False, transform=transform)\n",
        "    train_loader = torch.utils.data.DataLoader(dataset1, **train_kwargs)\n",
        "    test_loader = torch.utils.data.DataLoader(dataset2, **test_kwargs)\n",
        "    model = MNISTNet().to(device)\n",
        "    optimizer = optim.Adadelta(model.parameters(), lr=1.0)\n",
        "\n",
        "    scheduler = StepLR(optimizer, step_size=1, gamma=0.7)\n",
        "    for epoch in range(1, epochs + 1):\n",
        "        train(model, device, train_loader, optimizer, epoch)\n",
        "        test(model, device, test_loader)\n",
        "        scheduler.step()\n",
        "    return model"
      ],
      "metadata": {
        "id": "-3uOE4-dwG2J"
      },
      "execution_count": null,
      "outputs": []
    },
    {
      "cell_type": "code",
      "source": [
        "# Model creation\n",
        "\n",
        "my_model = train_model()"
      ],
      "metadata": {
        "id": "xCbNKKW7wMNp"
      },
      "execution_count": null,
      "outputs": []
    },
    {
      "cell_type": "code",
      "source": [
        "# Model deployment\n",
        "\n",
        "import baseten\n",
        "\n",
        "api_key = \"PASTE API KEY HERE\"\n",
        "baseten.login(api_key)\n",
        "\n",
        "baseten.deploy(\n",
        "    my_model,\n",
        "    model_name=\"My MISTNet PyTorch Model\"\n",
        ")"
      ],
      "metadata": {
        "id": "h4ycnyYles07"
      },
      "execution_count": null,
      "outputs": []
    },
    {
      "cell_type": "code",
      "source": [
        "# After the deployment is finished, call your new model!\n",
        "\n",
        "import numpy as np\n",
        "\n",
        "deployed_model_id = \"PASTE VERSION ID HERE\" # See deployed model page to find version ID\n",
        "\n",
        "transform = transforms.Compose(\n",
        "        [transforms.ToTensor(), transforms.Normalize((0.1307,), (0.3081,))]\n",
        "    )\n",
        "inputs = datasets.MNIST(\"../data\", train=False, transform=transform)\n",
        "dataset = torch.utils.data.DataLoader(inputs, batch_size=1)\n",
        "\n",
        "model_input = np.array(next(iter(dataset))[0])\n",
        "\n",
        "deployed_model = baseten.deployed_model_version_id(deployed_model_id)\n",
        "deployed_model.predict(model_input)"
      ],
      "metadata": {
        "id": "fd2sqoeawX0C"
      },
      "execution_count": null,
      "outputs": []
    }
  ]
}