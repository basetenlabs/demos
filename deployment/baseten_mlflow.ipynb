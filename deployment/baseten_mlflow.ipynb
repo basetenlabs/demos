{
  "nbformat": 4,
  "nbformat_minor": 0,
  "metadata": {
    "colab": {
      "provenance": []
    },
    "kernelspec": {
      "name": "python3",
      "display_name": "Python 3"
    },
    "language_info": {
      "name": "python"
    }
  },
  "cells": [
    {
      "cell_type": "code",
      "execution_count": null,
      "metadata": {
        "id": "TbuFrHGeIdll"
      },
      "outputs": [],
      "source": [
        "%pip install --upgrade pip\n",
        "%pip install --upgrade mlflow truss baseten"
      ]
    },
    {
      "cell_type": "code",
      "source": [
        "# Model training\n",
        "\n",
        "import mlflow\n",
        "from sklearn.linear_model import LogisticRegression\n",
        "import numpy as np\n",
        "\n",
        "with mlflow.start_run():\n",
        "    X = np.array([-2, -1, 0, 1, 2, 1]).reshape(-1, 1)\n",
        "    y = np.array([0, 0, 1, 1, 1, 0])\n",
        "    lr = LogisticRegression()\n",
        "    lr.fit(X, y)\n",
        "    model_info = mlflow.sklearn.log_model(sk_model=lr, artifact_path=\"model\")\n",
        "    MODEL_URI = model_info.model_uri"
      ],
      "metadata": {
        "id": "U1hSmgREIi4F"
      },
      "execution_count": null,
      "outputs": []
    },
    {
      "cell_type": "code",
      "source": [
        "# Model creation\n",
        "\n",
        "my_model = mlflow.pyfunc.load_model(MODEL_URI)"
      ],
      "metadata": {
        "id": "HAX9pazxIo-K"
      },
      "execution_count": null,
      "outputs": []
    },
    {
      "cell_type": "code",
      "source": [
        "# Model deployment\n",
        "\n",
        "import baseten\n",
        "\n",
        "api_key = \"PASTE API KEY HERE\"\n",
        "baseten.login(api_key)\n",
        "\n",
        "baseten.deploy(\n",
        "    my_model,\n",
        "    model_name=\"MLflow logistic regression\"\n",
        ")"
      ],
      "metadata": {
        "id": "vN2NzdYKIv7S"
      },
      "execution_count": null,
      "outputs": []
    },
    {
      "cell_type": "code",
      "source": [
        "# After the deployment is finished, call your new model!\n",
        "\n",
        "deployed_model_id = \"PASTE VERSION ID HERE\" # See deployed model page to find version ID\n",
        "\n",
        "data = np.array([-4, 1, 0, 10, -2, 1]).reshape(-1, 1)\n",
        "model_input = {\"inputs\": data}\n",
        "\n",
        "deployed_model = baseten.deployed_model_version_id(deployed_model_id)\n",
        "deployed_model.predict(model_input)"
      ],
      "metadata": {
        "id": "FimO9P4UI1H6"
      },
      "execution_count": null,
      "outputs": []
    }
  ]
}