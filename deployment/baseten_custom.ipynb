{
  "cells": [
    {
      "cell_type": "markdown",
      "metadata": {
        "id": "ndlSFJb7wCAU"
      },
      "source": [
        "# Baseten custom model example deployment\n",
        "\n",
        "<a href=\"https://colab.research.google.com/github/basetenlabs/demos/blob/main/deployment/baseten_custom.ipynb\" target=\"_parent\"><img src=\"https://colab.research.google.com/assets/colab-badge.svg\" alt=\"Open In Colab\"/></a>"
      ]
    },
    {
      "cell_type": "code",
      "execution_count": null,
      "metadata": {
        "id": "UYqwaTZjv88A"
      },
      "outputs": [],
      "source": [
        "%pip install --upgrade sklearn baseten"
      ]
    },
    {
      "cell_type": "code",
      "execution_count": null,
      "metadata": {
        "id": "-3uOE4-dwG2J"
      },
      "outputs": [],
      "source": [
        "# Model training\n",
        "\n",
        "from sklearn.ensemble import RandomForestClassifier\n",
        "from sklearn.datasets import load_iris\n",
        "\n",
        "iris = load_iris()\n",
        "data_x = iris['data']\n",
        "data_y = iris['target']\n",
        "\n",
        "model = RandomForestClassifier()\n",
        "model.fit(data_x, data_y)"
      ]
    },
    {
      "cell_type": "code",
      "execution_count": null,
      "metadata": {
        "id": "-aiL7IVE9kZb"
      },
      "outputs": [],
      "source": [
        "# Create a Truss\n",
        "\n",
        "import truss\n",
        "\n",
        "truss.init(\"rfc_truss\")"
      ]
    },
    {
      "cell_type": "code",
      "execution_count": null,
      "metadata": {
        "id": "xCbNKKW7wMNp"
      },
      "outputs": [],
      "source": [
        "# Generate model files\n",
        "\n",
        "import joblib\n",
        "\n",
        "# Pickled model\n",
        "joblib.dump(model, 'rfc_truss/data/rfc_model.pkl', compress=True)\n",
        "\n",
        "# Model class\n",
        "MODEL_CODE_AS_STR = \"\"\"\n",
        "import joblib\n",
        "from typing import Dict, List\n",
        "\n",
        "class Model:\n",
        "    def load(self):\n",
        "        self.model = joblib.load(open('data/rfc_model.pkl', 'rb'))\n",
        "\n",
        "    def predict(self, model_input):\n",
        "        output = self.model.predict(model_input)\n",
        "        model_output = {\"predictions\" : output }\n",
        "        return model_output\n",
        "\"\"\"\n",
        "\n",
        "with open(\"rfc_truss/model/model.py\", \"w\") as py_file:\n",
        "    py_file.write(MODEL_CODE_AS_STR)"
      ]
    },
    {
      "cell_type": "code",
      "execution_count": null,
      "metadata": {
        "id": "30C37DRLgyIF"
      },
      "outputs": [],
      "source": [
        "# Add dependencies\n",
        "\n",
        "tr = truss.from_directory(\"rfc_truss\")\n",
        "tr.add_python_requirement(\"joblib==1.1.0\")\n",
        "tr.add_python_requirement(\"scikit-learn==1.0.2\")"
      ]
    },
    {
      "cell_type": "code",
      "execution_count": null,
      "metadata": {
        "id": "h4ycnyYles07"
      },
      "outputs": [],
      "source": [
        "# Model deployment\n",
        "\n",
        "import baseten\n",
        "\n",
        "api_key = \"PASTE API KEY HERE\"\n",
        "baseten.login(api_key)\n",
        "\n",
        "baseten.deploy_truss(\n",
        "    tr,\n",
        "    model_name=\"Iris RFC Model (custom deployment)\"\n",
        ")"
      ]
    },
    {
      "cell_type": "code",
      "execution_count": null,
      "metadata": {
        "id": "fd2sqoeawX0C"
      },
      "outputs": [],
      "source": [
        "# After the deployment is finished, call your new model!\n",
        "\n",
        "deployed_model_id = \"PASTE VERSION ID HERE\" # See deployed model page to find version ID\n",
        "model_input = [[0, 0, 0, 0]]\n",
        "\n",
        "deployed_model = baseten.deployed_model_version_id(deployed_model_id)\n",
        "deployed_model.predict(model_input)"
      ]
    },
    {
      "cell_type": "code",
      "execution_count": null,
      "metadata": {
        "id": "YHPaEzskjmOm"
      },
      "outputs": [],
      "source": [
        "# Or call your model as an API\n",
        "\n",
        "import requests\n",
        "import json\n",
        "\n",
        "endpoint = f\"https://app.baseten.co/model_versions/{deployed_model_id}/predict\"\n",
        "auth = {\"Authorization\": f\"Api-Key {api_key}\"}\n",
        "data = json.dumps(model_input)\n",
        "\n",
        "resp = requests.post(\n",
        "    endpoint,\n",
        "    headers=auth,\n",
        "    data=data\n",
        ")\n",
        "\n",
        "resp.json()"
      ]
    }
  ],
  "metadata": {
    "colab": {
      "collapsed_sections": [],
      "name": "baseten_custom.ipynb",
      "provenance": []
    },
    "kernelspec": {
      "display_name": "Python 3",
      "name": "python3"
    },
    "language_info": {
      "name": "python"
    }
  },
  "nbformat": 4,
  "nbformat_minor": 0
}
