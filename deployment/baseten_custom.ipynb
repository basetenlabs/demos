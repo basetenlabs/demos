{
  "nbformat": 4,
  "nbformat_minor": 0,
  "metadata": {
    "colab": {
      "name": "baseten_custom.ipynb",
      "provenance": [],
      "collapsed_sections": []
    },
    "kernelspec": {
      "name": "python3",
      "display_name": "Python 3"
    },
    "language_info": {
      "name": "python"
    }
  },
  "cells": [
    {
      "cell_type": "markdown",
      "source": [
        "# Baseten custom model example deployment\n",
        "\n",
        "<a href=\"https://colab.research.google.com/github/basetenlabs/demos/blob/main/deployment/baseten_custom.ipynb\" target=\"_parent\"><img src=\"https://colab.research.google.com/assets/colab-badge.svg\" alt=\"Open In Colab\"/></a>"
      ],
      "metadata": {
        "id": "ndlSFJb7wCAU"
      }
    },
    {
      "cell_type": "code",
      "execution_count": null,
      "metadata": {
        "id": "UYqwaTZjv88A"
      },
      "outputs": [],
      "source": [
        "%pip install sklearn baseten"
      ]
    },
    {
      "cell_type": "code",
      "source": [
        "# Model training\n",
        "\n",
        "from sklearn.ensemble import RandomForestClassifier\n",
        "from sklearn.datasets import load_iris\n",
        "\n",
        "iris = load_iris()\n",
        "data_x = iris['data']\n",
        "data_y = iris['target']\n",
        "\n",
        "model = RandomForestClassifier()\n",
        "model.fit(data_x, data_y)"
      ],
      "metadata": {
        "id": "-3uOE4-dwG2J"
      },
      "execution_count": null,
      "outputs": []
    },
    {
      "cell_type": "code",
      "source": [
        "# Create a Truss\n",
        "\n",
        "import truss\n",
        "\n",
        "truss.init(\"rfc_truss\")"
      ],
      "metadata": {
        "id": "-aiL7IVE9kZb"
      },
      "execution_count": null,
      "outputs": []
    },
    {
      "cell_type": "code",
      "source": [
        "# Generate model files\n",
        "\n",
        "import joblib\n",
        "\n",
        "# Pickled model\n",
        "joblib.dump(model, 'rfc_truss/data/rfc_model.pkl', compress=True)\n",
        "\n",
        "# Model class\n",
        "MODEL_CODE_AS_STR = \"\"\"\n",
        "import joblib\n",
        "from typing import Dict, List\n",
        "\n",
        "class Model:\n",
        "    def load(self):\n",
        "        self.model = joblib.load(open('data/rfc_model.pkl', 'rb'))\n",
        "\n",
        "    def predict(self, inputs):\n",
        "        output = self.model.predict(inputs[\"inputs\"])\n",
        "        response = {\"predictions\" : output }\n",
        "        return response\n",
        "\"\"\"\n",
        "\n",
        "with open(\"rfc_truss/model/model.py\", \"w\") as py_file:\n",
        "    py_file.write(MODEL_CODE_AS_STR)"
      ],
      "metadata": {
        "id": "xCbNKKW7wMNp"
      },
      "execution_count": null,
      "outputs": []
    },
    {
      "cell_type": "code",
      "source": [
        "# Add dependencies\n",
        "\n",
        "tr = truss.from_directory(\"rfc_truss\")\n",
        "tr.add_python_requirement(\"joblib==1.1.0\")\n",
        "tr.add_python_requirement(\"scikit-learn==1.0.2\")"
      ],
      "metadata": {
        "id": "30C37DRLgyIF"
      },
      "execution_count": null,
      "outputs": []
    },
    {
      "cell_type": "code",
      "source": [
        "# Model deployment\n",
        "\n",
        "import baseten\n",
        "\n",
        "api_key = \"PASTE API KEY HERE\"\n",
        "baseten.login(api_key)\n",
        "\n",
        "baseten.deploy_truss(\n",
        "    tr,\n",
        "    model_name=\"Iris RFC Model (custom deployment)\"\n",
        ")"
      ],
      "metadata": {
        "id": "h4ycnyYles07"
      },
      "execution_count": null,
      "outputs": []
    },
    {
      "cell_type": "code",
      "source": [
        "# After the deployment is finished, call your new model!\n",
        "\n",
        "deployed_model_id = \"PASTE VERSION ID HERE\" # See deployed model page to find version ID\n",
        "model_input = [[0, 0, 0, 0]]\n",
        "\n",
        "deployed_model = baseten.deployed_model_version_id(deployed_model_id)\n",
        "deployed_model.predict(model_input)"
      ],
      "metadata": {
        "id": "fd2sqoeawX0C"
      },
      "execution_count": null,
      "outputs": []
    },
    {
      "cell_type": "code",
      "source": [
        "# Or call your model as an API\n",
        "\n",
        "import requests\n",
        "import json\n",
        "\n",
        "endpoint = f\"https://app.baseten.co/model_versions/{deployed_model_id}/predict\"\n",
        "auth = {\"Authorization\": f\"Api-Key {api_key}\"}\n",
        "data = json.dumps({\"inputs\": model_input})\n",
        "\n",
        "resp = requests.post(\n",
        "    endpoint,\n",
        "    headers=auth,\n",
        "    data=data\n",
        ")\n",
        "\n",
        "resp.json()"
      ],
      "metadata": {
        "id": "YHPaEzskjmOm"
      },
      "execution_count": null,
      "outputs": []
    }
  ]
}