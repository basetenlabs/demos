{
  "nbformat": 4,
  "nbformat_minor": 0,
  "metadata": {
    "colab": {
      "name": "Deploying a FastAI Model with Baseten",
      "provenance": [],
      "collapsed_sections": [],
      "include_colab_link": true
    },
    "kernelspec": {
      "name": "python3",
      "display_name": "Python 3"
    },
    "language_info": {
      "name": "python"
    }
  },
  "cells": [
    {
      "cell_type": "markdown",
      "metadata": {
        "id": "view-in-github",
        "colab_type": "text"
      },
      "source": [
        "<a href=\"https://colab.research.google.com/github/basetenlabs/demos/blob/main/Deploying_a_FastAI_Model_with_Baseten.ipynb\" target=\"_parent\"><img src=\"https://colab.research.google.com/assets/colab-badge.svg\" alt=\"Open In Colab\"/></a>"
      ]
    },
    {
      "cell_type": "markdown",
      "source": [
        "![Baseten](https://assets.website-files.com/624535121db2930bcd043f5d/62453d9bddc3de287134cb76_baseten-logo.svg)"
      ],
      "metadata": {
        "id": "HbQHP6083gBN"
      }
    },
    {
      "cell_type": "markdown",
      "source": [
        "# Install dependencies"
      ],
      "metadata": {
        "id": "FuMY5GIO3lVC"
      }
    },
    {
      "cell_type": "code",
      "execution_count": null,
      "metadata": {
        "id": "fKrctHwaeHfY"
      },
      "outputs": [],
      "source": [
        "! [ -e /content ] && pip install -Uqq fastai  # upgrade fastai on colab\n",
        "!pip install -Uqq fastai fastbook\n",
        "!pip install torchvision\n",
        "!pip install baseten"
      ]
    },
    {
      "cell_type": "markdown",
      "source": [
        "# Write the Baseten-compatible class with load and predict methods"
      ],
      "metadata": {
        "id": "060m1rlv35ho"
      }
    },
    {
      "cell_type": "code",
      "source": [
        "from fastai.data.external import URLs, untar_data\n",
        "from fastai.vision.data import ImageDataLoaders\n",
        "from fastai.vision.learner import cnn_learner, error_rate\n",
        "from fastai.vision.augment import Resize\n",
        "from fastai.data.transforms import get_image_files\n",
        "from torchvision.models import resnet34\n",
        "\n",
        "FASTAI_MODEL_CODE = \"\"\"import joblib\n",
        "import requests\n",
        "from numpy import asarray\n",
        "from PIL import Image\n",
        "\n",
        "def label_func(f):\n",
        "   return f[0].isupper()\n",
        "\n",
        "\n",
        "class FastAiModel:\n",
        "   def __init__(self):\n",
        "       self._model = None\n",
        "\n",
        "   def load(self):\n",
        "       self._model = joblib.load(\"model/model.joblib\")\n",
        "\n",
        "   def predict(self, inputs):\n",
        "       image_urls = [inp[\"url\"] for inp in inputs]\n",
        "       images = [self._fetch_image_url(img) for img in image_urls]\n",
        "       predictions = [self._model.predict(image) for image in images]\n",
        "       clean_predictions = [self._clean_prediction(pred) for pred in predictions]\n",
        "       return clean_predictions\n",
        "\n",
        "   def _fetch_image_url(self, url):\n",
        "       img = Image.open(requests.get(url, stream=True).raw)\n",
        "       return asarray(img)\n",
        "\n",
        "   def _clean_prediction(self, prediction):\n",
        "       return [prediction[0], prediction[1].tolist(), prediction[2].tolist()]\n",
        "\"\"\"\n",
        "\n",
        "REQUIREMENTS_TXT = \"\"\"\n",
        "fastai==2.5.2\n",
        "joblib==1.0.1\n",
        "Pillow==8.3.2\n",
        "\"\"\"\n",
        "\n",
        "with open('./fai_model.py', 'w') as py_file:\n",
        "  py_file.write(FASTAI_MODEL_CODE)\n",
        "\n",
        "with open('./requirements.txt', 'w') as py_file:\n",
        "  py_file.write(REQUIREMENTS_TXT)"
      ],
      "metadata": {
        "id": "qn1EQ6wae2Hm"
      },
      "execution_count": null,
      "outputs": []
    },
    {
      "cell_type": "markdown",
      "source": [
        "# Train and store the FastAI model"
      ],
      "metadata": {
        "id": "mqPlbN2F3-Ho"
      }
    },
    {
      "cell_type": "code",
      "source": [
        "import joblib\n",
        "\n",
        "from fastai.data.external import URLs, untar_data\n",
        "from fastai.vision.data import ImageDataLoaders\n",
        "from fastai.vision.learner import cnn_learner, error_rate\n",
        "from fastai.vision.augment import Resize\n",
        "from fastai.data.transforms import get_image_files\n",
        "from torchvision.models import resnet34\n",
        "\n",
        "from fai_model import label_func\n",
        "\n",
        "def create_model():\n",
        "   path = untar_data(URLs.PETS)\n",
        "   files = get_image_files(f\"{path}/images\")\n",
        "   dls = ImageDataLoaders.from_name_func(path, files, label_func, item_tfms=Resize(224))\n",
        "   learn = cnn_learner(dls, resnet34, metrics=error_rate)\n",
        "   return learn\n",
        "\n",
        "pet_model = create_model()\n",
        "with open(\"model.joblib\", \"wb\") as f:\n",
        "   joblib.dump(pet_model, f)"
      ],
      "metadata": {
        "id": "CuothiDJgCe6"
      },
      "execution_count": null,
      "outputs": []
    },
    {
      "cell_type": "markdown",
      "source": [
        "# Call Baseten API"
      ],
      "metadata": {
        "id": "UW1A1k2l4W1z"
      }
    },
    {
      "cell_type": "code",
      "source": [
        "import baseten\n",
        "baseten.login(\"*** INSERT API KEY ***\") # https://docs.baseten.co/applications/overview/api-keys\n",
        "baseten.deploy_custom(\n",
        "    model_name=\"FastAI demo\",\n",
        "    model_class=\"FastAiModel\",\n",
        "    model_files=[\"fai_model.py\", \"model.joblib\"],\n",
        "    requirements_file=\"requirements.txt\"\n",
        ")"
      ],
      "metadata": {
        "id": "yRa4PIa4eQfi"
      },
      "execution_count": null,
      "outputs": []
    }
  ]
}