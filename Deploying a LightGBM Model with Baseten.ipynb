{
  "nbformat": 4,
  "nbformat_minor": 0,
  "metadata": {
    "colab": {
      "name": "Deploying a LightGBM Model with Baseten",
      "provenance": [],
      "collapsed_sections": [],
      "include_colab_link": true
    },
    "kernelspec": {
      "name": "python3",
      "display_name": "Python 3"
    },
    "language_info": {
      "name": "python"
    }
  },
  "cells": [
    {
      "cell_type": "markdown",
      "metadata": {
        "id": "view-in-github",
        "colab_type": "text"
      },
      "source": [
        "<a href=\"https://colab.research.google.com/github/basetenlabs/demos/blob/main/Deploying%20a%20LightGBM%20Model%20with%20Baseten.ipynb\" target=\"_parent\"><img src=\"https://colab.research.google.com/assets/colab-badge.svg\" alt=\"Open In Colab\"/></a>"
      ]
    },
    {
      "cell_type": "markdown",
      "source": [
        "![Baseten](https://assets.website-files.com/624535121db2930bcd043f5d/62453d9bddc3de287134cb76_baseten-logo.svg)"
      ],
      "metadata": {
        "id": "DcN6NDnMcXR9"
      }
    },
    {
      "cell_type": "markdown",
      "source": [
        "# Install dependencies"
      ],
      "metadata": {
        "id": "35IRdHoieSWi"
      }
    },
    {
      "cell_type": "code",
      "source": [
        "!pip install lightgbm\n",
        "!pip install scikit-learn\n",
        "!pip install baseten"
      ],
      "metadata": {
        "id": "Wl8cFmeweOzU"
      },
      "execution_count": null,
      "outputs": []
    },
    {
      "cell_type": "markdown",
      "source": [
        "# Load wine data and split intro training and testing datasets"
      ],
      "metadata": {
        "id": "29PIM0pMplt6"
      }
    },
    {
      "cell_type": "code",
      "execution_count": null,
      "metadata": {
        "id": "GpaXfz2rLpQw"
      },
      "outputs": [],
      "source": [
        "import joblib\n",
        "from sklearn.datasets import load_wine\n",
        "from sklearn.model_selection import train_test_split\n",
        "X, y = load_wine(return_X_y=True)\n",
        "X_train, X_test, y_train, y_test = train_test_split(X, y, test_size=0.33, random_state=1010)"
      ]
    },
    {
      "cell_type": "markdown",
      "source": [
        "# Train LightGBM model"
      ],
      "metadata": {
        "id": "cDRbBj9Oprw6"
      }
    },
    {
      "cell_type": "code",
      "source": [
        "import lightgbm as lgb\n",
        "\n",
        "model = lgb.LGBMClassifier(\n",
        "    learning_rate=0.09,\n",
        "    max_depth=-5,\n",
        "    random_state=1010\n",
        ")\n",
        "model.fit(\n",
        "    X_train, \n",
        "    y_train, \n",
        "    eval_set=[(X_test, y_test), (X_train ,y_train)],\n",
        "    verbose=20,\n",
        "    eval_metric='logloss'\n",
        ")"
      ],
      "metadata": {
        "id": "-AcDnOJBPdU8"
      },
      "execution_count": null,
      "outputs": []
    },
    {
      "cell_type": "markdown",
      "source": [
        "# Serialize model files for deployment"
      ],
      "metadata": {
        "id": "HnVm8jlCp4xM"
      }
    },
    {
      "cell_type": "code",
      "source": [
        "with open(\"model.joblib\", \"wb\") as f:\n",
        "   joblib.dump(model, f)\n",
        "\n",
        "# a simple model server for this LGBMClassifier\n",
        "MODEL_CODE_AS_STR = \"\"\"import joblib\n",
        "\n",
        "class LGBModelServer(object):\n",
        "    def load(self):\n",
        "        self.model = joblib.load(\"model/model.joblib\")\n",
        "    def predict(self, inputs):\n",
        "        class_predictions = self.model.predict(inputs)\n",
        "        return class_predictions\n",
        "\"\"\"\n",
        "\n",
        "with open('lgb_model.py', 'w') as py_file:\n",
        "    py_file.write(MODEL_CODE_AS_STR)\n",
        "\n",
        "# our only requirement is this package\n",
        "!pip freeze | egrep 'lightgbm|joblib' > requirements.txt"
      ],
      "metadata": {
        "id": "Fl1cuaVRVIpX"
      },
      "execution_count": null,
      "outputs": []
    },
    {
      "cell_type": "markdown",
      "source": [
        "# Call Baseten API"
      ],
      "metadata": {
        "id": "iPG3fKxlqFrP"
      }
    },
    {
      "cell_type": "code",
      "source": [
        "import baseten\n",
        "baseten.login(\"*** INSERT API KEY ***\") # https://docs.baseten.co/applications/overview/api-keys\n",
        "\n",
        "baseten.deploy_custom(\n",
        "    model_name='Light Gradient Boosted Wine classifier model',\n",
        "    model_class='LGBModelServer',\n",
        "    model_files=['lgb_model.py', 'model.joblib'],\n",
        "    requirements_file='requirements.txt'\n",
        ")"
      ],
      "metadata": {
        "id": "OEm4B3AXXxJ0"
      },
      "execution_count": null,
      "outputs": []
    }
  ]
}